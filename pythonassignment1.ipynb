{
 "cells": [
  {
   "cell_type": "code",
   "execution_count": null,
   "metadata": {},
   "outputs": [],
   "source": [
    "'''Q1. Which keyword is used to create a function? Create a function to return a list of odd numbers in the\n",
    "range of 1 to 25.\n",
    "Q2. Why *args and **kwargs is used in some functions? Create a function each for *args and **kwargs\n",
    "to demonstrate their use.\n",
    "Q3. What is an iterator in python? Name the method used to initialise the iterator object and the method\n",
    "used for iteration. Use these methods to print the first five elements of the given list [2, 4, 6, 8, 10, 12, 14,\n",
    "16, 18, 20].\n",
    "Q4. What is a generator function in python? Why yield keyword is used? Give an example of a generator\n",
    "function.\n",
    "Q5. Create a generator function for prime numbers less than 1000. Use the next() method to print the\n",
    "first 20 prime numbers.\n",
    "Q6. Write a python program to print the first 10 Fibonacci numbers using a while loop.\n",
    "Q7. Write a List Comprehension to iterate through the given string: ‘pwskills’.\n",
    "Expected output: ['p', 'w', 's', 'k', 'i', 'l', 'l', 's']\n",
    "Q8. Write a python program to check whether a given number is Palindrome or not using a while loop.\n",
    "Q9. Write a code to print odd numbers from 1 to 100 using list comprehension.\n",
    "Note: Use a list comprehension to create a list from 1 to 100 and use another List comprehension to filter\n",
    "out odd numbers.'''\n"
   ]
  },
  {
   "cell_type": "code",
   "execution_count": 20,
   "metadata": {},
   "outputs": [
    {
     "data": {
      "text/plain": [
       "[1, 3, 5, 7, 9, 11, 13, 15, 17, 19, 21, 23, 25]"
      ]
     },
     "execution_count": 20,
     "metadata": {},
     "output_type": "execute_result"
    }
   ],
   "source": [
    "## ans  1\n",
    "''' def keyword is used '''\n",
    "\n",
    "def odd(l=[1,2,3,4,5,6,7,8,9,10,11,12,13,14,15,16,17,18,19,20,21,22,23,24,25] ) :\n",
    "    list1=[]\n",
    "    for i in l:\n",
    "        if i%2 != 0:\n",
    "            list1.append(i)\n",
    "        \n",
    "    return list1\n",
    "odd()    "
   ]
  },
  {
   "cell_type": "code",
   "execution_count": 31,
   "metadata": {},
   "outputs": [
    {
     "name": "stdout",
     "output_type": "stream",
     "text": [
      "[2, 3, 8]\n"
     ]
    },
    {
     "data": {
      "text/plain": [
       "{}"
      ]
     },
     "execution_count": 31,
     "metadata": {},
     "output_type": "execute_result"
    }
   ],
   "source": [
    "##ans 2   *args is used for passing multiple arguments by user as per need at the run time **kwargs is used to pass dict as argument\n",
    "def test(*args):\n",
    "    \n",
    "    return args\n",
    "print(list(test(2,3,8)))\n",
    "def test2(**kwargs):\n",
    "    return kwargs\n",
    "test2()"
   ]
  },
  {
   "cell_type": "code",
   "execution_count": 18,
   "metadata": {},
   "outputs": [
    {
     "name": "stdout",
     "output_type": "stream",
     "text": [
      "2\n",
      "4\n",
      "6\n",
      "8\n",
      "10\n"
     ]
    }
   ],
   "source": [
    "'''ans 3 \n",
    "iterator is a concept according to which data can be traversed or user can extract from next one by one from adjacent positions but with condition that data should be iterable\n",
    "generator functions  are used to initialise the iterator object and the method\n",
    "used for iteration is looping'''\n",
    "list_1=[2,4,6,8,10,12,14,16,18,20]\n",
    "def itr(n):\n",
    "        k=1\n",
    "        for i in list_1:\n",
    "            if k==6:\n",
    "                 break\n",
    "            yield i\n",
    "            k+= 1\n",
    "        \n",
    "obj_1=itr(5)\n",
    "for j in obj_1:\n",
    "    print(j)\n"
   ]
  },
  {
   "cell_type": "code",
   "execution_count": 19,
   "metadata": {},
   "outputs": [
    {
     "name": "stdout",
     "output_type": "stream",
     "text": [
      "0\n",
      "1\n",
      "1\n",
      "2\n",
      "3\n"
     ]
    }
   ],
   "source": [
    "## ans 4 \n",
    "## generator function concept is used to generate values one by one these values can be utilised bu user as per required condition \n",
    "##keyword yield is used to generate value one by one\n",
    "def fib(n):\n",
    "    a,b=0,1\n",
    "    for i in range(1,n+1):\n",
    "        yield a\n",
    "        a,b=b,a + b \n",
    "obj2=fib(5)\n",
    "for j in obj2:\n",
    "    print(j)"
   ]
  },
  {
   "cell_type": "code",
   "execution_count": 18,
   "metadata": {},
   "outputs": [
    {
     "name": "stdout",
     "output_type": "stream",
     "text": [
      "Prime numbers between 2 and 10 are:\n",
      "2,3,5,7,"
     ]
    }
   ],
   "source": [
    "##answer 5 this is what i have learnt from internet because doubt section was showing busy from 2 days\n",
    "def is_prime_num(n):\n",
    "    # Check if the number is prime\n",
    "    if n < 2:\n",
    "        return False\n",
    "    for i in range(2, int(n ** 0.5) + 1):\n",
    "        if n % i == 0:\n",
    "            return False\n",
    "    return True\n",
    "\n",
    "def prime_numbers(start, end):\n",
    "    # Generate prime numbers between start and end\n",
    "    for num in range(start, end + 1):\n",
    "        if is_prime_num(num):\n",
    "            yield num\n",
    "\n",
    "# Accept input from the user\n",
    "start = int(input(\"Input the starting number: \"))\n",
    "end = int(input(\"Input the ending number: \"))\n",
    "\n",
    "# Create the prime numbers generator\n",
    "prime_gen = prime_numbers(start, end)\n",
    "\n",
    "# Generate and print all prime numbers\n",
    "print(\"Prime numbers between\", start, \"and\", end, \"are:\")\n",
    "for prime in prime_gen:\n",
    "    print(prime, end=\",\")\n"
   ]
  },
  {
   "cell_type": "code",
   "execution_count": 19,
   "metadata": {},
   "outputs": [
    {
     "name": "stdout",
     "output_type": "stream",
     "text": [
      "0\n",
      "1\n",
      "1\n",
      "2\n",
      "3\n",
      "5\n",
      "8\n",
      "13\n",
      "21\n",
      "34\n"
     ]
    }
   ],
   "source": [
    "## ans 6\n",
    "a,b=0,1\n",
    "n=1\n",
    "while n<=10:\n",
    "    print(a)\n",
    "    a,b=b,a+b\n",
    "    n=n+1"
   ]
  },
  {
   "cell_type": "code",
   "execution_count": 20,
   "metadata": {},
   "outputs": [
    {
     "name": "stdout",
     "output_type": "stream",
     "text": [
      "['p', 'w', 's', 'k', 'i', 'l', 'l', 's']\n"
     ]
    }
   ],
   "source": [
    "## answer 7\n",
    "str1=\"pwskills\"\n",
    "def listcom():\n",
    "\n",
    "    for i in str1:\n",
    "        yield i\n",
    "list1=[]\n",
    "for i in str1:\n",
    "    list1.append(i)\n",
    "\n",
    "print(list1)     \n"
   ]
  },
  {
   "cell_type": "code",
   "execution_count": 21,
   "metadata": {},
   "outputs": [],
   "source": [
    "##ans 8\n",
    "str1=input(\"enter a string to check if it is a palindrome \")\n",
    "str2=str1\n",
    "n=len(str1)-1\n",
    "i=0\n",
    "while n>=0:\n",
    "    if str2[i]==str1[n]:\n",
    "             \n",
    "        n=n-1\n",
    "        i+=1\n",
    "if n==-1:\n",
    "    print(\"this is palindrome\")\n",
    "else:\n",
    "    print('this is not palindrome')"
   ]
  },
  {
   "cell_type": "code",
   "execution_count": null,
   "metadata": {},
   "outputs": [
    {
     "name": "stdout",
     "output_type": "stream",
     "text": [
      "[1, 3, 5, 7, 9, 11, 13, 15, 17, 19, 21, 23, 25, 27, 29, 31, 33, 35, 37, 39, 41, 43, 45, 47, 49, 51, 53, 55, 57, 59, 61, 63, 65, 67, 69, 71, 73, 75, 77, 79, 81, 83, 85, 87, 89, 91, 93, 95, 97, 99]\n"
     ]
    }
   ],
   "source": [
    "# answ 9\n",
    "list1=[]\n",
    "def gen(n):\n",
    "\n",
    "    for i in range(1,n+1):\n",
    "        yield i\n",
    "obj3=gen(100)\n",
    "for j in obj3:\n",
    "    list1.append(j)    \n",
    "list2=list(filter(lambda x: x%2!=0 ,list1))\n",
    "print(list2)"
   ]
  }
 ],
 "metadata": {
  "kernelspec": {
   "display_name": "Python 3",
   "language": "python",
   "name": "python3"
  },
  "language_info": {
   "codemirror_mode": {
    "name": "ipython",
    "version": 3
   },
   "file_extension": ".py",
   "mimetype": "text/x-python",
   "name": "python",
   "nbconvert_exporter": "python",
   "pygments_lexer": "ipython3",
   "version": "3.11.4"
  },
  "orig_nbformat": 4
 },
 "nbformat": 4,
 "nbformat_minor": 2
}

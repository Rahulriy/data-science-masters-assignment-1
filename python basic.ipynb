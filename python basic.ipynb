{
 "cells": [
  {
   "cell_type": "code",
   "execution_count": null,
   "id": "78bd0495-2fcc-402b-b1fa-b23610595441",
   "metadata": {},
   "outputs": [
    {
     "data": {
      "text/plain": [
       "str"
      ]
     },
     "execution_count": 105,
     "metadata": {},
     "output_type": "execute_result"
    }
   ],
   "source": [
    "##ques1\n",
    "##part i\n",
    "var_str = \"this is a string variable\"\n",
    "type(var_str)"
   ]
  },
  {
   "cell_type": "code",
   "execution_count": 132,
   "id": "b3a40ff6",
   "metadata": {},
   "outputs": [
    {
     "data": {
      "text/plain": [
       "list"
      ]
     },
     "execution_count": 132,
     "metadata": {},
     "output_type": "execute_result"
    }
   ],
   "source": [
    "##ques 1\n",
    "##part ii\n",
    "list_var = [1,2]\n",
    "type(list_var)"
   ]
  },
  {
   "cell_type": "code",
   "execution_count": 133,
   "id": "9caad800",
   "metadata": {},
   "outputs": [
    {
     "data": {
      "text/plain": [
       "float"
      ]
     },
     "execution_count": 133,
     "metadata": {},
     "output_type": "execute_result"
    }
   ],
   "source": [
    "##ques1\n",
    "##part iii\n",
    "flt_var = 1.1\n",
    "type(flt_var)"
   ]
  },
  {
   "cell_type": "code",
   "execution_count": 135,
   "id": "d55eb494",
   "metadata": {},
   "outputs": [
    {
     "data": {
      "text/plain": [
       "tuple"
      ]
     },
     "execution_count": 135,
     "metadata": {},
     "output_type": "execute_result"
    }
   ],
   "source": [
    "##ques1\n",
    "##part iv\n",
    "tuple_variable = (1,\"string\")\n",
    "type(tuple_variable)"
   ]
  },
  {
   "attachments": {},
   "cell_type": "markdown",
   "id": "97754e7c",
   "metadata": {},
   "source": [
    "ques2 answers\n",
    "i answer is string\n",
    "ii answer is string\n",
    "iii answer is list \n",
    "iv answer is integer"
   ]
  },
  {
   "cell_type": "code",
   "execution_count": 139,
   "id": "641032d5",
   "metadata": {},
   "outputs": [
    {
     "data": {
      "text/plain": [
       "5.6"
      ]
     },
     "execution_count": 139,
     "metadata": {},
     "output_type": "execute_result"
    }
   ],
   "source": [
    "## ques 3 part i gives us quotient\n",
    "28/5\n"
   ]
  },
  {
   "cell_type": "code",
   "execution_count": 140,
   "id": "d0392fda",
   "metadata": {},
   "outputs": [
    {
     "data": {
      "text/plain": [
       "3"
      ]
     },
     "execution_count": 140,
     "metadata": {},
     "output_type": "execute_result"
    }
   ],
   "source": [
    "##ques 3 part ii gives us remainder\n",
    "28%5\n"
   ]
  },
  {
   "cell_type": "code",
   "execution_count": 141,
   "id": "e11ad087",
   "metadata": {},
   "outputs": [
    {
     "data": {
      "text/plain": [
       "5"
      ]
     },
     "execution_count": 141,
     "metadata": {},
     "output_type": "execute_result"
    }
   ],
   "source": [
    "##ques 3 part iii gives us quotient without decimal places in integer\n",
    "28//5"
   ]
  },
  {
   "cell_type": "code",
   "execution_count": 142,
   "id": "9781b7bb",
   "metadata": {},
   "outputs": [
    {
     "data": {
      "text/plain": [
       "512"
      ]
     },
     "execution_count": 142,
     "metadata": {},
     "output_type": "execute_result"
    }
   ],
   "source": [
    "##ques 3 part iv gives us calculated answer by raising data to power given \n",
    "##eg for 2 raised to power 9\n",
    "2**9"
   ]
  },
  {
   "cell_type": "code",
   "execution_count": 48,
   "id": "6f258e23",
   "metadata": {},
   "outputs": [
    {
     "name": "stdout",
     "output_type": "stream",
     "text": [
      "1\n",
      "<class 'int'>\n",
      "2\n",
      "<class 'int'>\n",
      "1.156\n",
      "<class 'float'>\n",
      "stringdata\n",
      "<class 'str'>\n",
      "(1, 2)\n",
      "<class 'tuple'>\n",
      "{'one': '1', 'two': '2'}\n",
      "<class 'dict'>\n",
      "(3+6j)\n",
      "<class 'complex'>\n",
      "1\n",
      "<class 'int'>\n",
      "1.2\n",
      "<class 'float'>\n",
      "101\n",
      "<class 'int'>\n"
     ]
    }
   ],
   "source": [
    "list1=[1,2,1.156,'stringdata',(1,2),{'one':\"1\",'two':\"2\"},3+6j,1,1.2,101]##ques 4\n",
    "for var in list1:\n",
    "    print(var)\n",
    "    print(type(var))"
   ]
  },
  {
   "cell_type": "code",
   "execution_count": 49,
   "id": "d69874c5",
   "metadata": {},
   "outputs": [
    {
     "data": {
      "text/plain": [
       "10"
      ]
     },
     "execution_count": 49,
     "metadata": {},
     "output_type": "execute_result"
    }
   ],
   "source": [
    "len( list1   )"
   ]
  },
  {
   "cell_type": "code",
   "execution_count": 1,
   "id": "b9fc7964",
   "metadata": {},
   "outputs": [
    {
     "name": "stdout",
     "output_type": "stream",
     "text": [
      "divisible\n",
      "4\n",
      "times\n"
     ]
    }
   ],
   "source": [
    "a=int(input(\"enter number A to check its divisibility with B\"))\n",
    "b=int(input(\"enter B here to check the divisibility\"))              ##question number v or 5\n",
    "while True:\n",
    "    if a%b == 0:\n",
    "        print('divisible')\n",
    "        print(a//b)\n",
    "        print('times')\n",
    "        break\n",
    "    else :\n",
    "        print(a,\"is not divisible by given number \",b) \n",
    "        break   "
   ]
  },
  {
   "cell_type": "code",
   "execution_count": 2,
   "id": "a44ad3ca",
   "metadata": {},
   "outputs": [
    {
     "name": "stdout",
     "output_type": "stream",
     "text": [
      "1  is not divisible by num 3.0\n",
      "2  is not divisible by num 3.0\n",
      "3 is divisible by 3\n",
      "4  is not divisible by num 3.0\n",
      "5  is not divisible by num 3.0\n",
      "6 is divisible by 3\n",
      "7  is not divisible by num 3.0\n",
      "8  is not divisible by num 3.0\n",
      "9 is divisible by 3\n",
      "10  is not divisible by num 3.0\n",
      "11  is not divisible by num 3.0\n",
      "12 is divisible by 3\n",
      "13  is not divisible by num 3.0\n",
      "14  is not divisible by num 3.0\n",
      "15 is divisible by 3\n",
      "16  is not divisible by num 3.0\n",
      "17  is not divisible by num 3.0\n",
      "18 is divisible by 3\n",
      "19  is not divisible by num 3.0\n",
      "20  is not divisible by num 3.0\n",
      "21 is divisible by 3\n",
      "22  is not divisible by num 3.0\n",
      "23  is not divisible by num 3.0\n",
      "24 is divisible by 3\n",
      "25  is not divisible by num 3.0\n"
     ]
    }
   ],
   "source": [
    "list2=[1,2,3,4,5,6,7,8,9,10,11,12,13,14,15,16,17,18,19,20,21,22,23,24,25]\n",
    "for i in range(0,25):                                                      ## ques number 6\n",
    "    if list2[i]%3 == 0:\n",
    "        print(list2[i], \"is divisible by 3\")\n",
    "    else:\n",
    "        print(list2[i],\" is not divisible by num 3.0\")"
   ]
  },
  {
   "cell_type": "code",
   "execution_count": 3,
   "id": "d1e068cc",
   "metadata": {},
   "outputs": [
    {
     "name": "stdout",
     "output_type": "stream",
     "text": [
      "1\n",
      "updated value\n",
      "938377\n"
     ]
    }
   ],
   "source": [
    "'''ques   7'''\n",
    "'''in mutable data type the data element at given index can be changed or you can over rite that whereas in immutable data type data at an index can not change '''\n",
    "list1=[1,2]\n",
    "print(list1[0])\n",
    "\n",
    "list1[0]=938377\n",
    "print('updated value')\n",
    "print(list1[0])"
   ]
  },
  {
   "cell_type": "code",
   "execution_count": 4,
   "id": "1150342a",
   "metadata": {},
   "outputs": [
    {
     "data": {
      "text/plain": [
       "'i'"
      ]
     },
     "execution_count": 4,
     "metadata": {},
     "output_type": "execute_result"
    }
   ],
   "source": [
    "str_variable='immutable'\n",
    "str_variable[0]\n"
   ]
  },
  {
   "cell_type": "code",
   "execution_count": 5,
   "id": "147f8492",
   "metadata": {},
   "outputs": [
    {
     "ename": "TypeError",
     "evalue": "'str' object does not support item assignment",
     "output_type": "error",
     "traceback": [
      "\u001b[1;31m---------------------------------------------------------------------------\u001b[0m",
      "\u001b[1;31mTypeError\u001b[0m                                 Traceback (most recent call last)",
      "Cell \u001b[1;32mIn[5], line 1\u001b[0m\n\u001b[1;32m----> 1\u001b[0m str_variable[\u001b[39m0\u001b[39;49m]\u001b[39m=\u001b[39m\u001b[39m'\u001b[39m\u001b[39mh\u001b[39m\u001b[39m'\u001b[39m\n",
      "\u001b[1;31mTypeError\u001b[0m: 'str' object does not support item assignment"
     ]
    }
   ],
   "source": [
    "str_variable[0]='h'"
   ]
  }
 ],
 "metadata": {
  "kernelspec": {
   "display_name": "Python 3 (ipykernel)",
   "language": "python",
   "name": "python3"
  },
  "language_info": {
   "codemirror_mode": {
    "name": "ipython",
    "version": 3
   },
   "file_extension": ".py",
   "mimetype": "text/x-python",
   "name": "python",
   "nbconvert_exporter": "python",
   "pygments_lexer": "ipython3",
   "version": "3.11.4"
  }
 },
 "nbformat": 4,
 "nbformat_minor": 5
}

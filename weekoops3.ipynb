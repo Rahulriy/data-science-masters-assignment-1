{
 "cells": [
  {
   "cell_type": "code",
   "execution_count": null,
   "metadata": {},
   "outputs": [],
   "source": [
    "'''Q1. What is Abstraction in OOps? Explain with an example.\n",
    "Q2. Differentiate between Abstraction and Encapsulation. Explain with an example.\n",
    "Q3. What is abc module in python? Why is it used?\n",
    "Q4. How can we achieve data abstraction?\n",
    "Q5. Can we create an instance of an abstract class? Explain your answer.'''"
   ]
  },
  {
   "cell_type": "code",
   "execution_count": 7,
   "metadata": {},
   "outputs": [
    {
     "name": "stdout",
     "output_type": "stream",
     "text": [
      "this is class data\n",
      "this is class marks in pyt\n"
     ]
    }
   ],
   "source": [
    "##ans 1 \n",
    "##abstraction means to make outline of class methods.class methods are inherited in other classes for required need of these classes\n",
    "import abc\n",
    "class pw:\n",
    "    @abc.abstractmethod\n",
    "    def stu_details(self):\n",
    "        pass\n",
    "    @abc.abstractmethod\n",
    "    def stu_marks(self):\n",
    "        pass\n",
    "class data(pw):\n",
    "    def stu_details(self):\n",
    "        return \"this is class data\"  \n",
    "class pyt(pw):\n",
    "    def stu_details(self):\n",
    "        return \"this is class marks in pyt\"   \n",
    "   \n",
    "p1=data()\n",
    "p2=pyt()         \n",
    "obj=[p1,p2]   \n",
    "def ob(obj):\n",
    "    for i in obj:\n",
    "        print(i.stu_details() )\n",
    "ob(obj)\n",
    "\n",
    "          "
   ]
  },
  {
   "cell_type": "code",
   "execution_count": 9,
   "metadata": {},
   "outputs": [
    {
     "data": {
      "text/plain": [
       "(10, 20)"
      ]
     },
     "execution_count": 9,
     "metadata": {},
     "output_type": "execute_result"
    }
   ],
   "source": [
    "##ans 2\n",
    "##as in ansewr 1 abstraction provides a outline structure to a class whereas encapsulation hides data variables or class composition \n",
    "## eg for a encaptulation is \n",
    "class pw:\n",
    "    def __init__(self,num1,num2):\n",
    "        self.__numbr1=num1\n",
    "        self.__number2=num2\n",
    "    def get_data(self):\n",
    "        return self.__numbr1,self.__number2\n",
    "obj=pw(10,20)\n",
    "obj.get_data()        \n",
    "## where user does not know that __numbr1 and number2"
   ]
  },
  {
   "cell_type": "code",
   "execution_count": null,
   "metadata": {},
   "outputs": [],
   "source": [
    "##answer 3\n",
    "##abc module in python is a abstract base class module used to make abstract class methods"
   ]
  },
  {
   "cell_type": "code",
   "execution_count": 11,
   "metadata": {},
   "outputs": [
    {
     "name": "stdout",
     "output_type": "stream",
     "text": [
      "this is class data\n",
      "this is class marks in pyt\n"
     ]
    }
   ],
   "source": [
    "##answer 4 is\n",
    "\n",
    "##abstraction means to make outline of class methods.class methods are inherited in other classes for required need of these classes\n",
    "import abc\n",
    "class pw:\n",
    "    @abc.abstractmethod\n",
    "    def stu_details(self):\n",
    "        pass\n",
    "    @abc.abstractmethod\n",
    "    def stu_marks(self):\n",
    "        pass\n",
    "class data(pw):\n",
    "    def stu_details(self):\n",
    "        return \"this is class data\"  \n",
    "class pyt(pw):\n",
    "    def stu_details(self):\n",
    "        return \"this is class marks in pyt\"   \n",
    "   \n",
    "p1=data()\n",
    "p2=pyt()         \n",
    "obj=[p1,p2]   \n",
    "def ob(obj):\n",
    "    for i in obj:\n",
    "        print(i.stu_details() )\n",
    "ob(obj)\n",
    "\n",
    "          "
   ]
  },
  {
   "cell_type": "code",
   "execution_count": 12,
   "metadata": {},
   "outputs": [
    {
     "name": "stdout",
     "output_type": "stream",
     "text": [
      "this is class data\n",
      "this is class marks in pyt\n"
     ]
    }
   ],
   "source": [
    "##answer 5 is yes we can make an instance of abstractclass as p3 in given example\n",
    "\n",
    "##abstraction means to make outline of class methods.class methods are inherited in other classes for required need of these classes\n",
    "import abc\n",
    "class pw:\n",
    "    @abc.abstractmethod\n",
    "    def stu_details(self):\n",
    "        pass\n",
    "    @abc.abstractmethod\n",
    "    def stu_marks(self):\n",
    "        pass\n",
    "class data(pw):\n",
    "    def stu_details(self):\n",
    "        return \"this is class data\"  \n",
    "class pyt(pw):\n",
    "    def stu_details(self):\n",
    "        return \"this is class marks in pyt\"   \n",
    "   \n",
    "p1=data()\n",
    "p2=pyt()         \n",
    "obj=[p1,p2]   \n",
    "def ob(obj):\n",
    "    for i in obj:\n",
    "        print(i.stu_details() )\n",
    "ob(obj)\n",
    "p3=pw()\n",
    "\n",
    "\n",
    "          "
   ]
  }
 ],
 "metadata": {
  "kernelspec": {
   "display_name": "Python 3",
   "language": "python",
   "name": "python3"
  },
  "language_info": {
   "codemirror_mode": {
    "name": "ipython",
    "version": 3
   },
   "file_extension": ".py",
   "mimetype": "text/x-python",
   "name": "python",
   "nbconvert_exporter": "python",
   "pygments_lexer": "ipython3",
   "version": "3.11.4"
  },
  "orig_nbformat": 4
 },
 "nbformat": 4,
 "nbformat_minor": 2
}

{
 "cells": [
  {
   "cell_type": "code",
   "execution_count": null,
   "metadata": {},
   "outputs": [],
   "source": [
    "'''Q1. Explain Class and Object with respect to Object-Oriented Programming. Give a suitable example.\n",
    "Q2. Name the four pillars of OOPs.\n",
    "Q3. Explain why the __init__() function is used. Give a suitable example.\n",
    "Q4. Why self is used in OOPs?\n",
    "Q5. What is inheritance? Give an example for each type of inheritance.'''\n"
   ]
  },
  {
   "cell_type": "code",
   "execution_count": 2,
   "metadata": {},
   "outputs": [
    {
     "name": "stdout",
     "output_type": "stream",
     "text": [
      "this is function of class\n"
     ]
    }
   ],
   "source": [
    "##answer  1\n",
    "##class contains the data member and functions under one roof for a particular part of code and its object is created to access it\n",
    "\n",
    "class pw:\n",
    "    def intr(self):\n",
    "        print('this is function of class') \n",
    "obj=pw()\n",
    "obj.intr()       "
   ]
  },
  {
   "cell_type": "code",
   "execution_count": null,
   "metadata": {},
   "outputs": [],
   "source": [
    "##four pillars of the oops ans 2 is\n",
    "#Encapsulation\n",
    "#Inheritance\n",
    "#polymorphism\n",
    "#data abstraction"
   ]
  },
  {
   "cell_type": "code",
   "execution_count": 3,
   "metadata": {},
   "outputs": [
    {
     "data": {
      "text/plain": [
       "2"
      ]
     },
     "execution_count": 3,
     "metadata": {},
     "output_type": "execute_result"
    }
   ],
   "source": [
    "##init function is used to take data input at time of object creation by user ans 3\n",
    "class pw:\n",
    "    def __init__(self,num1):\n",
    "        self.num1=num1\n",
    "obj=pw(2)\n",
    "obj.num1        "
   ]
  },
  {
   "cell_type": "code",
   "execution_count": null,
   "metadata": {},
   "outputs": [],
   "source": [
    "##self is used in loops to bind the function to class ans 4\n"
   ]
  },
  {
   "cell_type": "code",
   "execution_count": 7,
   "metadata": {},
   "outputs": [
    {
     "name": "stdout",
     "output_type": "stream",
     "text": [
      "it is from class 2\n",
      "this is class 1\n",
      "it is from class 2\n"
     ]
    }
   ],
   "source": [
    "##answer 5 is\n",
    "##Inheritance is concept through which the properties of one class can be accessed in another\n",
    "'''there are mainly two types 2 of inheritance methods in python language. 1 multi level 2 multiple'''\n",
    "class pw:\n",
    "    def func1(self):\n",
    "        print('this is class 1')\n",
    "class pw2:\n",
    "    def func2(self):\n",
    "        print('it is from class 2')\n",
    "class pw3(pw2):\n",
    "    pass\n",
    "class p5(pw,pw2):\n",
    "\n",
    "    pass\n",
    "\n",
    "## eg for the multi level pw2 is parent class of pw3\n",
    "p1=pw3()\n",
    "p1.func2()\n",
    "## eg for multiple\n",
    "p2=p5()\n",
    "p2.func1()\n",
    "p2.func2()\n",
    "\n",
    "                    "
   ]
  }
 ],
 "metadata": {
  "kernelspec": {
   "display_name": "Python 3",
   "language": "python",
   "name": "python3"
  },
  "language_info": {
   "codemirror_mode": {
    "name": "ipython",
    "version": 3
   },
   "file_extension": ".py",
   "mimetype": "text/x-python",
   "name": "python",
   "nbconvert_exporter": "python",
   "pygments_lexer": "ipython3",
   "version": "3.11.4"
  },
  "orig_nbformat": 4
 },
 "nbformat": 4,
 "nbformat_minor": 2
}

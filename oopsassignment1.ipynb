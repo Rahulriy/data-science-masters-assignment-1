{
 "cells": [
  {
   "cell_type": "code",
   "execution_count": null,
   "metadata": {},
   "outputs": [],
   "source": [
    "'''Q1, Create a vehicle class with an init method having instance variables as name_of_vehicle, max_speed\n",
    "and average_of_vehicle.\n",
    "Q2. Create a child class car from the vehicle class created in Que 1, which will inherit the vehicle class.\n",
    "Create a method named seating_capacity which takes capacity as an argument and returns the name of\n",
    "the vehicle and its seating capacity.\n",
    "Q3. What is multiple inheritance? Write a python code to demonstrate multiple inheritance.\n",
    "Q4. What are getter and setter in python? Create a class and create a getter and a setter method in this\n",
    "class.\n",
    "Q5.What is method overriding in python? Write a python code to demonstrate method overriding.'''"
   ]
  },
  {
   "cell_type": "code",
   "execution_count": 1,
   "metadata": {},
   "outputs": [],
   "source": [
    "##ans num 1\n",
    "class vehicle:\n",
    "\n",
    "    def __init__(self,name_of_vehicle,max_speed,average_of_vehicle):\n",
    "        self.name_of_vehicle=name_of_vehicle\n",
    "        self.max_speed=max_speed\n",
    "        self.average_of_vehicle=average_of_vehicle\n",
    "\n",
    "        "
   ]
  },
  {
   "cell_type": "code",
   "execution_count": 2,
   "metadata": {},
   "outputs": [
    {
     "data": {
      "text/plain": [
       "('name of vehicle', 'toyota', 'seating_capacity', 4)"
      ]
     },
     "execution_count": 2,
     "metadata": {},
     "output_type": "execute_result"
    }
   ],
   "source": [
    "##ans no 2\n",
    "class car(vehicle):\n",
    "    def seating_capacity(self,capacity):\n",
    "        self.seating_capacity=capacity\n",
    "        return 'name of vehicle',self.name_of_vehicle,'seating_capacity',self.seating_capacity\n",
    "obj2=car(\"toyota\",50,35)\n",
    "obj2.seating_capacity(4)\n"
   ]
  },
  {
   "cell_type": "code",
   "execution_count": 3,
   "metadata": {},
   "outputs": [
    {
     "name": "stdout",
     "output_type": "stream",
     "text": [
      "this is from class test1\n",
      "this is from class test2\n"
     ]
    },
    {
     "data": {
      "text/plain": [
       "<__main__.test3 at 0x2455e167390>"
      ]
     },
     "execution_count": 3,
     "metadata": {},
     "output_type": "execute_result"
    }
   ],
   "source": [
    "##answer no 3 is\n",
    "##multiple inheritance is a class which is derived from other classes with their all properties inherited\n",
    "class test1:\n",
    "    def func1(self):\n",
    "        print(\"this is from class test1\")\n",
    "        \n",
    "class test2:\n",
    "    def func21(self):\n",
    "        print(\"this is from class test2\")\n",
    "        \n",
    "class test3(test1,test2):\n",
    "    pass\n",
    "obj3=test3()\n",
    "obj3.func1()\n",
    "obj3.func21()\n",
    "obj3"
   ]
  },
  {
   "cell_type": "code",
   "execution_count": 22,
   "metadata": {},
   "outputs": [
    {
     "data": {
      "text/plain": [
       "(3, 3)"
      ]
     },
     "execution_count": 22,
     "metadata": {},
     "output_type": "execute_result"
    }
   ],
   "source": [
    "##ans no 4 given\n",
    "'''getter and setter are used in python to get and set information about private variables which are bind to the class'''\n",
    "class pwalla:\n",
    "    def __init__(self,num1,num2):\n",
    "        \n",
    "        self.__num1=num1\n",
    "        self.__num2=num2\n",
    "\n",
    "    @property\n",
    "    def get_num(self):\n",
    "        return self.__num1, self.__num2\n",
    "    @get_num.setter\n",
    "    def set_num(self,num1):\n",
    "        self.__num1=num1\n",
    "pw=pwalla(2,3)        \n",
    "pw.get_num\n",
    "pw.set_num=3\n",
    "pw.get_num\n",
    "\n"
   ]
  },
  {
   "cell_type": "code",
   "execution_count": 27,
   "metadata": {},
   "outputs": [
    {
     "data": {
      "text/plain": [
       "(2, 3)"
      ]
     },
     "execution_count": 27,
     "metadata": {},
     "output_type": "execute_result"
    }
   ],
   "source": [
    "##ans 5\n",
    "'''method overriding means without creating an object, values are passed in the classes'''\n",
    "class pwalla:\n",
    "    def __init__(self,num1,num2):\n",
    "        \n",
    "        self.__num1=num1\n",
    "        self.__num2=num2\n",
    "    @classmethod\n",
    "    def set_val(cls,n1,n2):\n",
    "        return cls(n1,n2)\n",
    "    \n",
    "    def get_val(self):\n",
    "        return self.__num1,self.__num2   \n",
    "p1=pwalla.set_val(2,3)\n",
    "p1.get_val()   "
   ]
  }
 ],
 "metadata": {
  "kernelspec": {
   "display_name": "Python 3",
   "language": "python",
   "name": "python3"
  },
  "language_info": {
   "codemirror_mode": {
    "name": "ipython",
    "version": 3
   },
   "file_extension": ".py",
   "mimetype": "text/x-python",
   "name": "python",
   "nbconvert_exporter": "python",
   "pygments_lexer": "ipython3",
   "version": "3.11.4"
  },
  "orig_nbformat": 4
 },
 "nbformat": 4,
 "nbformat_minor": 2
}
